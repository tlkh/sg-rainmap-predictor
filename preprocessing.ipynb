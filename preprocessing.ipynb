{
 "cells": [
  {
   "cell_type": "code",
   "execution_count": 1,
   "metadata": {},
   "outputs": [],
   "source": [
    "import os\n",
    "import glob\n",
    "import numpy as np\n",
    "import cv2\n",
    "\n",
    "from tqdm import tqdm_notebook\n",
    "\n",
    "import matplotlib.pyplot as plt\n",
    "%matplotlib inline"
   ]
  },
  {
   "cell_type": "code",
   "execution_count": 2,
   "metadata": {},
   "outputs": [],
   "source": [
    "RAW_DATASET_DIR = \"/home/jovyan/sg-rainmap-dataset/raw\"\n",
    "BASE_MAP_PATH = \"/home/jovyan/sg-rainmap-dataset/base.jpg\""
   ]
  },
  {
   "cell_type": "code",
   "execution_count": 3,
   "metadata": {},
   "outputs": [
    {
     "name": "stdout",
     "output_type": "stream",
     "text": [
      "Number of images:\t 2818\n",
      "Path to first image:\t /home/jovyan/sg-rainmap-dataset/raw/2019012900000000.png\n",
      "Path to last image:\t /home/jovyan/sg-rainmap-dataset/raw/2019020719050000.png\n"
     ]
    }
   ],
   "source": [
    "RAW_IMG_PATHS = glob.glob(RAW_DATASET_DIR+\"/*.png\")\n",
    "RAW_IMG_PATHS.sort()\n",
    "\n",
    "print(\"Number of images:\\t\", len(RAW_IMG_PATHS))\n",
    "print(\"Path to first image:\\t\", RAW_IMG_PATHS[0])\n",
    "print(\"Path to last image:\\t\", RAW_IMG_PATHS[-1])"
   ]
  },
  {
   "cell_type": "code",
   "execution_count": 4,
   "metadata": {},
   "outputs": [],
   "source": [
    "def plot_image(image, title=None):\n",
    "    image = cv2.cvtColor(image,cv2.COLOR_BGR2RGB)\n",
    "    if title is not None:\n",
    "        plt.title(str(title))\n",
    "    plt.imshow(image)\n",
    "    plt.show()\n",
    "    \n",
    "def make_folder(path):\n",
    "    os.makedirs(path, exist_ok=True)\n",
    "    \n",
    "def create_weather_map(base_map, overlay):\n",
    "    overlay_gray = cv2.cvtColor(overlay,cv2.COLOR_BGR2GRAY)\n",
    "    ret, mask = cv2.threshold(overlay_gray, 1, 255, cv2.THRESH_BINARY)\n",
    "\n",
    "    overlay_only = cv2.bitwise_and(overlay,overlay,mask)\n",
    "\n",
    "    weather_map = cv2.addWeighted(overlay_only, 0.6, base_map, 0.5, 0)\n",
    "    \n",
    "    return weather_map"
   ]
  },
  {
   "cell_type": "code",
   "execution_count": 5,
   "metadata": {},
   "outputs": [
    {
     "data": {
      "application/vnd.jupyter.widget-view+json": {
       "model_id": "8558166b2d08412b881a2df2c33e7937",
       "version_major": 2,
       "version_minor": 0
      },
      "text/plain": [
       "HBox(children=(IntProgress(value=0, max=2818), HTML(value='')))"
      ]
     },
     "metadata": {},
     "output_type": "display_data"
    },
    {
     "name": "stdout",
     "output_type": "stream",
     "text": [
      "\n"
     ]
    }
   ],
   "source": [
    "base_map = cv2.imread(BASE_MAP_PATH)\n",
    "\n",
    "OUTPUT_DIR = \"./data/\"\n",
    "\n",
    "make_folder(OUTPUT_DIR)\n",
    "\n",
    "for overlay_path in tqdm_notebook(RAW_IMG_PATHS):\n",
    "    overlay = cv2.imread(overlay_path)\n",
    "    weather_map = create_weather_map(base_map, overlay)\n",
    "    fname = overlay_path.split(\"/\")[-1]\n",
    "    output_path = OUTPUT_DIR+fname\n",
    "    cv2.imwrite(output_path, weather_map)"
   ]
  },
  {
   "cell_type": "code",
   "execution_count": null,
   "metadata": {},
   "outputs": [],
   "source": []
  }
 ],
 "metadata": {
  "kernelspec": {
   "display_name": "Python 3",
   "language": "python",
   "name": "python3"
  },
  "language_info": {
   "codemirror_mode": {
    "name": "ipython",
    "version": 3
   },
   "file_extension": ".py",
   "mimetype": "text/x-python",
   "name": "python",
   "nbconvert_exporter": "python",
   "pygments_lexer": "ipython3",
   "version": "3.6.8"
  }
 },
 "nbformat": 4,
 "nbformat_minor": 2
}
